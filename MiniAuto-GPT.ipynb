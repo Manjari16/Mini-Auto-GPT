{
 "cells": [
  {
   "cell_type": "markdown",
   "id": "89c8af83",
   "metadata": {},
   "source": [
    "# Auto-GPT\n",
    "The program is an interactive tool that accepts English queries from users for data manipulation, preprocessing and visualization tasks on a pandas DataFrame 'df'. Here our 'df' is credit_risk_dataset, and our user can be a bank employee, dealing with this dataset. The objective of program is to empower a bank employee without the prior knowledge of python or pandas libraries to handle this dataframe.\n",
    "\n",
    "The program utilizes the OpenAI API to convert the queries into corresponding python commands and code. These code blocks are then automatically executed. Proper error handling ensures smooth execution and enhances user safety during code execution."
   ]
  },
  {
   "cell_type": "code",
   "execution_count": 1,
   "id": "416184df",
   "metadata": {
    "collapsed": true,
    "scrolled": true
   },
   "outputs": [
    {
     "name": "stdout",
     "output_type": "stream",
     "text": [
      "Defaulting to user installation because normal site-packages is not writeable\n",
      "Requirement already satisfied: openai in c:\\users\\my\\appdata\\roaming\\python\\python39\\site-packages (0.27.8)\n",
      "Requirement already satisfied: aiohttp in c:\\users\\my\\appdata\\roaming\\python\\python39\\site-packages (from openai) (3.8.5)\n",
      "Requirement already satisfied: requests>=2.20 in d:\\anaconda\\lib\\site-packages (from openai) (2.27.1)\n",
      "Requirement already satisfied: tqdm in d:\\anaconda\\lib\\site-packages (from openai) (4.64.0)\n",
      "Requirement already satisfied: idna<4,>=2.5 in d:\\anaconda\\lib\\site-packages (from requests>=2.20->openai) (3.3)\n",
      "Requirement already satisfied: urllib3<1.27,>=1.21.1 in d:\\anaconda\\lib\\site-packages (from requests>=2.20->openai) (1.26.9)\n",
      "Requirement already satisfied: charset-normalizer~=2.0.0 in d:\\anaconda\\lib\\site-packages (from requests>=2.20->openai) (2.0.4)\n",
      "Requirement already satisfied: certifi>=2017.4.17 in d:\\anaconda\\lib\\site-packages (from requests>=2.20->openai) (2021.10.8)\n",
      "Requirement already satisfied: attrs>=17.3.0 in d:\\anaconda\\lib\\site-packages (from aiohttp->openai) (21.4.0)\n",
      "Requirement already satisfied: frozenlist>=1.1.1 in d:\\anaconda\\lib\\site-packages (from aiohttp->openai) (1.2.0)\n",
      "Requirement already satisfied: aiosignal>=1.1.2 in d:\\anaconda\\lib\\site-packages (from aiohttp->openai) (1.2.0)\n",
      "Requirement already satisfied: yarl<2.0,>=1.0 in d:\\anaconda\\lib\\site-packages (from aiohttp->openai) (1.6.3)\n",
      "Requirement already satisfied: multidict<7.0,>=4.5 in d:\\anaconda\\lib\\site-packages (from aiohttp->openai) (5.1.0)\n",
      "Requirement already satisfied: async-timeout<5.0,>=4.0.0a3 in d:\\anaconda\\lib\\site-packages (from aiohttp->openai) (4.0.1)\n",
      "Requirement already satisfied: typing-extensions>=3.6.5 in c:\\users\\my\\appdata\\roaming\\python\\python39\\site-packages (from async-timeout<5.0,>=4.0.0a3->aiohttp->openai) (4.5.0)\n",
      "Requirement already satisfied: colorama in d:\\anaconda\\lib\\site-packages (from tqdm->openai) (0.4.4)\n"
     ]
    },
    {
     "name": "stderr",
     "output_type": "stream",
     "text": [
      "WARNING: Ignoring invalid distribution - (c:\\users\\my\\appdata\\roaming\\python\\python39\\site-packages)\n",
      "WARNING: Ignoring invalid distribution - (c:\\users\\my\\appdata\\roaming\\python\\python39\\site-packages)\n",
      "WARNING: Ignoring invalid distribution - (c:\\users\\my\\appdata\\roaming\\python\\python39\\site-packages)\n",
      "WARNING: Ignoring invalid distribution - (c:\\users\\my\\appdata\\roaming\\python\\python39\\site-packages)\n",
      "WARNING: Ignoring invalid distribution - (c:\\users\\my\\appdata\\roaming\\python\\python39\\site-packages)\n",
      "WARNING: Ignoring invalid distribution - (c:\\users\\my\\appdata\\roaming\\python\\python39\\site-packages)\n"
     ]
    }
   ],
   "source": [
    "#Installing OpenAI\n",
    "!pip install openai"
   ]
  },
  {
   "cell_type": "code",
   "execution_count": 133,
   "id": "d575c302",
   "metadata": {
    "scrolled": true
   },
   "outputs": [],
   "source": [
    "#Importing deps\n",
    "import pandas as pd\n",
    "import openai\n",
    "import os"
   ]
  },
  {
   "cell_type": "code",
   "execution_count": 153,
   "id": "eb40da2e",
   "metadata": {
    "scrolled": true
   },
   "outputs": [],
   "source": [
    "#Importing Credit_Risk_dataset of bank\n",
    "df= pd.read_csv('credit_risk_dataset.csv')"
   ]
  },
  {
   "cell_type": "code",
   "execution_count": 154,
   "id": "c1087ef2",
   "metadata": {
    "scrolled": true
   },
   "outputs": [
    {
     "data": {
      "text/html": [
       "<div>\n",
       "<style scoped>\n",
       "    .dataframe tbody tr th:only-of-type {\n",
       "        vertical-align: middle;\n",
       "    }\n",
       "\n",
       "    .dataframe tbody tr th {\n",
       "        vertical-align: top;\n",
       "    }\n",
       "\n",
       "    .dataframe thead th {\n",
       "        text-align: right;\n",
       "    }\n",
       "</style>\n",
       "<table border=\"1\" class=\"dataframe\">\n",
       "  <thead>\n",
       "    <tr style=\"text-align: right;\">\n",
       "      <th></th>\n",
       "      <th>person_age</th>\n",
       "      <th>person_income</th>\n",
       "      <th>person_home_ownership</th>\n",
       "      <th>person_emp_length</th>\n",
       "      <th>loan_intent</th>\n",
       "      <th>loan_grade</th>\n",
       "      <th>loan_amnt</th>\n",
       "      <th>loan_int_rate</th>\n",
       "      <th>loan_status</th>\n",
       "      <th>loan_percent_income</th>\n",
       "      <th>cb_person_default_on_file</th>\n",
       "      <th>cb_person_cred_hist_length</th>\n",
       "    </tr>\n",
       "  </thead>\n",
       "  <tbody>\n",
       "    <tr>\n",
       "      <th>0</th>\n",
       "      <td>22</td>\n",
       "      <td>59000</td>\n",
       "      <td>RENT</td>\n",
       "      <td>123.0</td>\n",
       "      <td>PERSONAL</td>\n",
       "      <td>D</td>\n",
       "      <td>35000</td>\n",
       "      <td>16.02</td>\n",
       "      <td>1</td>\n",
       "      <td>0.59</td>\n",
       "      <td>Y</td>\n",
       "      <td>3</td>\n",
       "    </tr>\n",
       "    <tr>\n",
       "      <th>1</th>\n",
       "      <td>21</td>\n",
       "      <td>9600</td>\n",
       "      <td>OWN</td>\n",
       "      <td>5.0</td>\n",
       "      <td>EDUCATION</td>\n",
       "      <td>B</td>\n",
       "      <td>1000</td>\n",
       "      <td>11.14</td>\n",
       "      <td>0</td>\n",
       "      <td>0.10</td>\n",
       "      <td>N</td>\n",
       "      <td>2</td>\n",
       "    </tr>\n",
       "    <tr>\n",
       "      <th>2</th>\n",
       "      <td>25</td>\n",
       "      <td>9600</td>\n",
       "      <td>MORTGAGE</td>\n",
       "      <td>1.0</td>\n",
       "      <td>MEDICAL</td>\n",
       "      <td>C</td>\n",
       "      <td>5500</td>\n",
       "      <td>12.87</td>\n",
       "      <td>1</td>\n",
       "      <td>0.57</td>\n",
       "      <td>N</td>\n",
       "      <td>3</td>\n",
       "    </tr>\n",
       "    <tr>\n",
       "      <th>3</th>\n",
       "      <td>23</td>\n",
       "      <td>65500</td>\n",
       "      <td>RENT</td>\n",
       "      <td>4.0</td>\n",
       "      <td>MEDICAL</td>\n",
       "      <td>C</td>\n",
       "      <td>35000</td>\n",
       "      <td>15.23</td>\n",
       "      <td>1</td>\n",
       "      <td>0.53</td>\n",
       "      <td>N</td>\n",
       "      <td>2</td>\n",
       "    </tr>\n",
       "    <tr>\n",
       "      <th>4</th>\n",
       "      <td>24</td>\n",
       "      <td>54400</td>\n",
       "      <td>RENT</td>\n",
       "      <td>8.0</td>\n",
       "      <td>MEDICAL</td>\n",
       "      <td>C</td>\n",
       "      <td>35000</td>\n",
       "      <td>14.27</td>\n",
       "      <td>1</td>\n",
       "      <td>0.55</td>\n",
       "      <td>Y</td>\n",
       "      <td>4</td>\n",
       "    </tr>\n",
       "  </tbody>\n",
       "</table>\n",
       "</div>"
      ],
      "text/plain": [
       "   person_age  person_income person_home_ownership  person_emp_length  \\\n",
       "0          22          59000                  RENT              123.0   \n",
       "1          21           9600                   OWN                5.0   \n",
       "2          25           9600              MORTGAGE                1.0   \n",
       "3          23          65500                  RENT                4.0   \n",
       "4          24          54400                  RENT                8.0   \n",
       "\n",
       "  loan_intent loan_grade  loan_amnt  loan_int_rate  loan_status  \\\n",
       "0    PERSONAL          D      35000          16.02            1   \n",
       "1   EDUCATION          B       1000          11.14            0   \n",
       "2     MEDICAL          C       5500          12.87            1   \n",
       "3     MEDICAL          C      35000          15.23            1   \n",
       "4     MEDICAL          C      35000          14.27            1   \n",
       "\n",
       "   loan_percent_income cb_person_default_on_file  cb_person_cred_hist_length  \n",
       "0                 0.59                         Y                           3  \n",
       "1                 0.10                         N                           2  \n",
       "2                 0.57                         N                           3  \n",
       "3                 0.53                         N                           2  \n",
       "4                 0.55                         Y                           4  "
      ]
     },
     "execution_count": 154,
     "metadata": {},
     "output_type": "execute_result"
    }
   ],
   "source": [
    "#First five entries of dataset to give you idea how our data looks like\n",
    "df.head()"
   ]
  },
  {
   "cell_type": "code",
   "execution_count": 155,
   "id": "a566fabb",
   "metadata": {
    "scrolled": true
   },
   "outputs": [],
   "source": [
    "column_names = df.columns.tolist() # Returns the column names as a list\n",
    "columns = ', '.join(column_names) # Returns the column names as a string"
   ]
  },
  {
   "cell_type": "code",
   "execution_count": 186,
   "id": "23781a6b",
   "metadata": {
    "scrolled": true
   },
   "outputs": [],
   "source": [
    "#Getting our API key\n",
    "api_key = 'ENTER YOUR API KEY'\n",
    "os.environ['OPENAI_API_KEY']= api_key"
   ]
  },
  {
   "cell_type": "markdown",
   "id": "fb5138a2",
   "metadata": {},
   "source": [
    "Now we'll give prompt to OpenAI and generate python commands.  "
   ]
  },
  {
   "cell_type": "code",
   "execution_count": 241,
   "id": "dee113f6",
   "metadata": {
    "scrolled": true
   },
   "outputs": [],
   "source": [
    "#Getting Pandas command for the user's query\n",
    "def response(query, columns):\n",
    "    #Giving a right prompt to ensure proper reply\n",
    "    template= f\"\"\"You're an AI assisstant helping a bank employee navigate through pandas dataframe 'df' with the following columns:\\n{columns}\\nAnswer with only Python code to execute: {query}\n",
    "    Here are some examples-\n",
    "    query: first 5 entries\n",
    "    return: df.head()\n",
    "    query: scatter plot between age and income\n",
    "    return: df.plot.scatter(x='person_age', y='person_income', title='Scatter Plot between person_age and person_income')\n",
    "            plt.xlabel('person_age')\n",
    "            plt.ylabel('person_income')\n",
    "            plt.grid(True)\n",
    "            plt.show()\n",
    "            \"\"\"\n",
    "    \n",
    "    #making API request\n",
    "    response= openai.Completion.create(\n",
    "              engine= \"text-davinci-002\",\n",
    "              prompt= template,\n",
    "              temperature= 0,\n",
    "              max_tokens= 150\n",
    "    )\n",
    "    #Extract the reply from the response\n",
    "    reply= response['choices'][0]['text'].strip()\n",
    "    return reply"
   ]
  },
  {
   "cell_type": "markdown",
   "id": "83e04b3a",
   "metadata": {},
   "source": [
    "Here is our chatbot that automatically executes our queries. Thus we have automated the execution of queries."
   ]
  },
  {
   "cell_type": "code",
   "execution_count": 257,
   "id": "94cb0127",
   "metadata": {
    "scrolled": false
   },
   "outputs": [
    {
     "name": "stdout",
     "output_type": "stream",
     "text": [
      "Your query: last 20 entries\n",
      "       person_age  person_income person_home_ownership  person_emp_length  \\\n",
      "32561          54         129000              MORTGAGE                6.0   \n",
      "32562          61         160000              MORTGAGE               30.0   \n",
      "32563          52          71520                  RENT                0.0   \n",
      "32564          53          45000                  RENT                0.0   \n",
      "32565          57          40000                  RENT                1.0   \n",
      "32566          52          30000                  RENT                6.0   \n",
      "32567          53          85000                  RENT                2.0   \n",
      "32568          60          49008                   OWN                5.0   \n",
      "32569          51          60000              MORTGAGE                1.0   \n",
      "32570          58          72000                  RENT                5.0   \n",
      "32571          60          45600                  RENT                1.0   \n",
      "32572          52          52000                   OWN                0.0   \n",
      "32573          56          90000              MORTGAGE                0.0   \n",
      "32574          52          65004                  RENT                4.0   \n",
      "32575          52          64500                  RENT                0.0   \n",
      "32576          57          53000              MORTGAGE                1.0   \n",
      "32577          54         120000              MORTGAGE                4.0   \n",
      "32578          65          76000                  RENT                3.0   \n",
      "32579          56         150000              MORTGAGE                5.0   \n",
      "32580          66          42000                  RENT                2.0   \n",
      "\n",
      "           loan_intent loan_grade  loan_amnt  loan_int_rate  loan_status  \\\n",
      "32561        EDUCATION          B       9000          11.49            1   \n",
      "32562         PERSONAL          B      24000          10.38            0   \n",
      "32563        EDUCATION          E       7000          16.82            1   \n",
      "32564         PERSONAL          C       5600          13.79            0   \n",
      "32565          MEDICAL          A      15000           8.90            1   \n",
      "32566          VENTURE          C       5000          12.73            0   \n",
      "32567         PERSONAL          A       8000           7.74            0   \n",
      "32568         PERSONAL          C      12000          13.79            0   \n",
      "32569         PERSONAL          A       7500            NaN            0   \n",
      "32570  HOMEIMPROVEMENT          B       4500            NaN            0   \n",
      "32571          VENTURE          B      20000          10.00            1   \n",
      "32572         PERSONAL          A       9600           8.49            0   \n",
      "32573         PERSONAL          A       7200           6.17            0   \n",
      "32574         PERSONAL          D      20000          15.58            1   \n",
      "32575        EDUCATION          B       5000          11.26            0   \n",
      "32576         PERSONAL          C       5800          13.16            0   \n",
      "32577         PERSONAL          A      17625           7.49            0   \n",
      "32578  HOMEIMPROVEMENT          B      35000          10.99            1   \n",
      "32579         PERSONAL          B      15000          11.48            0   \n",
      "32580          MEDICAL          B       6475           9.99            0   \n",
      "\n",
      "       loan_percent_income cb_person_default_on_file  \\\n",
      "32561                 0.07                         N   \n",
      "32562                 0.15                         N   \n",
      "32563                 0.10                         Y   \n",
      "32564                 0.12                         N   \n",
      "32565                 0.38                         N   \n",
      "32566                 0.17                         N   \n",
      "32567                 0.09                         N   \n",
      "32568                 0.24                         Y   \n",
      "32569                 0.13                         N   \n",
      "32570                 0.06                         N   \n",
      "32571                 0.44                         N   \n",
      "32572                 0.18                         N   \n",
      "32573                 0.08                         N   \n",
      "32574                 0.31                         Y   \n",
      "32575                 0.08                         N   \n",
      "32576                 0.11                         N   \n",
      "32577                 0.15                         N   \n",
      "32578                 0.46                         N   \n",
      "32579                 0.10                         N   \n",
      "32580                 0.15                         N   \n",
      "\n",
      "       cb_person_cred_hist_length  \n",
      "32561                          24  \n",
      "32562                          21  \n",
      "32563                          24  \n",
      "32564                          28  \n",
      "32565                          21  \n",
      "32566                          18  \n",
      "32567                          26  \n",
      "32568                          21  \n",
      "32569                          23  \n",
      "32570                          23  \n",
      "32571                          26  \n",
      "32572                          22  \n",
      "32573                          19  \n",
      "32574                          19  \n",
      "32575                          20  \n",
      "32576                          30  \n",
      "32577                          19  \n",
      "32578                          28  \n",
      "32579                          26  \n",
      "32580                          30  \n",
      "Command executed successfully.\n",
      "Your query: number of entries where age is greater than 25\n",
      "17229\n",
      "Command executed successfully.\n",
      "Your query: pie chart of home ownership\n"
     ]
    },
    {
     "data": {
      "image/png": "[encoded data removed]",
      "text/plain": [
       "<Figure size 432x288 with 1 Axes>"
      ]
     },
     "metadata": {},
     "output_type": "display_data"
    },
    {
     "name": "stdout",
     "output_type": "stream",
     "text": [
      "None\n",
      "Command executed successfully.\n",
      "Your query: pie chart of home ownership where age is greater than 60\n"
     ]
    },
    {
     "data": {
      "image/png": "[encoded data removed]",
      "text/plain": [
       "<Figure size 432x288 with 1 Axes>"
      ]
     },
     "metadata": {},
     "output_type": "display_data"
    },
    {
     "name": "stdout",
     "output_type": "stream",
     "text": [
      "None\n",
      "Command executed successfully.\n",
      "Your query: plot between loan amount and interest\n"
     ]
    },
    {
     "data": {
      "image/png": "[encoded data removed]",
      "text/plain": [
       "<Figure size 432x288 with 1 Axes>"
      ]
     },
     "metadata": {
      "needs_background": "light"
     },
     "output_type": "display_data"
    },
    {
     "name": "stdout",
     "output_type": "stream",
     "text": [
      "None\n",
      "Command executed successfully.\n",
      "Your query: exit\n",
      "Exiting the program.\n"
     ]
    }
   ],
   "source": [
    "while True:\n",
    "    user_input = input('Your query: ') #taking user input\n",
    "    \n",
    "    if user_input != \"exit\": #exiting when user types exit\n",
    "        reply = response(user_input, columns) #getting reply from OpenAI\n",
    "        if reply!= None:\n",
    "            try: #error handling to ensure proper execution\n",
    "            #evaluating the command\n",
    "                #print(reply)\n",
    "                print(eval(reply))\n",
    "                print(\"Command executed successfully.\")\n",
    "            except Exception as e:\n",
    "                try:# If the evaluation fails, try executing the result as an expression\n",
    "                    #print(reply)\n",
    "                    print(exec(reply))\n",
    "                    print(\"Command executed successfully.\")\n",
    "                except Exception as e:\n",
    "                    print(\"Error executing the command:\", str(e))\n",
    "                    print(\"Please elaborate on your query\")\n",
    "            # Since there was an exception, the loop will continue and prompt the user for input again.    \n",
    "        \n",
    "    else:\n",
    "        print(\"Exiting the program.\")\n",
    "        break\n",
    "         "
   ]
  },
  {
   "cell_type": "markdown",
   "id": "be368e56",
   "metadata": {},
   "source": [
    "This was a small demo. We can leverage GPT to perform bigger tasks like creating websites, handling large data, creating script for videos, etc. with the right use of Prompt. "
   ]
  },
  {
   "cell_type": "code",
   "execution_count": null,
   "id": "0c894613",
   "metadata": {
    "scrolled": true
   },
   "outputs": [],
   "source": []
  }
 ],
 "metadata": {
  "kernelspec": {
   "display_name": "Python 3 (ipykernel)",
   "language": "python",
   "name": "python3"
  },
  "language_info": {
   "codemirror_mode": {
    "name": "ipython",
    "version": 3
   },
   "file_extension": ".py",
   "mimetype": "text/x-python",
   "name": "python",
   "nbconvert_exporter": "python",
   "pygments_lexer": "ipython3",
   "version": "3.9.12"
  }
 },
 "nbformat": 4,
 "nbformat_minor": 5
}
